{
 "cells": [
  {
   "cell_type": "markdown",
   "id": "4615b062-05fb-44de-99a2-199377a8242c",
   "metadata": {},
   "source": [
    "# TestBook\n"
   ]
  },
  {
   "cell_type": "markdown",
   "id": "944b2fcc-13b8-4d44-87d0-ffc7c0a1fe28",
   "metadata": {},
   "source": [
    "# Introduction\n",
    "Welcome to the TestBook"
   ]
  },
  {
   "cell_type": "markdown",
   "id": "ba2fc9c4-af0f-482b-92ae-f3a4288809a1",
   "metadata": {
    "jp-MarkdownHeadingCollapsed": true
   },
   "source": [
    "# Data Science Languages\n",
    "Python\n",
    "Apache Spark\n",
    "Apache Scala\n",
    "R\n",
    "SQL"
   ]
  },
  {
   "cell_type": "markdown",
   "id": "8289a94f-acbc-4bd0-b79d-0d69a260379c",
   "metadata": {},
   "source": [
    "# Data Science Libraries\n",
    "1. Pandas\n",
    "2. NumPy\n",
    "3. Matplotlib\n",
    "4. Seaborn\n",
    "5. Scikit-learn\n",
    "6. Keras\n",
    "7. TensorFlow\n",
    "8. PyTorch "
   ]
  },
  {
   "cell_type": "markdown",
   "id": "36e47354-7226-4bbe-8ed8-ab9f610e1a28",
   "metadata": {},
   "source": [
    "# Data Science Tools\n",
    "\n",
    "Here is a table listing some of the most popular tools used in data science, along with their primary purposes:\n",
    "\n",
    "| Tool           | Purpose                                |\n",
    "|----------------|----------------------------------------|\n",
    "| Jupyter Notebook | Interactive coding and data visualization |\n",
    "| RStudio        | Statistical analysis and visualization |\n",
    "| Apache Hadoop  | Big data processing and storage        |\n",
    "| Apache Spark   | Large-scale data processing            |\n",
    "| TensorFlow     | Machine learning and deep learning     |\n",
    "| PyTorch        | Machine learning and deep learning     |\n",
    "| Tableau        | Data visualization                     |\n",
    "| Power BI       | Business analytics and visualization   |\n",
    "| SQL            | Database management and querying       |\n",
    "| Git            | Version control                        |\n"
   ]
  },
  {
   "cell_type": "markdown",
   "id": "e6d63fdf-9984-453d-8317-16d05b7802dd",
   "metadata": {},
   "source": [
    "# Arithmetic Expressions Examples\n",
    "\n",
    "Arithmetic expressions are fundamental in programming and data science, used to perform basic mathematical operations. Below are some examples of common arithmetic expressions:\n",
    "\n",
    "1. **Addition (+)**: Combines two or more numbers to get their sum.\n",
    "   - Example: `5 + 3 = 8`\n",
    "   \n",
    "2. **Subtraction (-)**: Finds the difference between two numbers.\n",
    "   - Example: `10 - 4 = 6`\n",
    "   \n",
    "3. **Multiplication (*)**: Calculates the product of two or more numbers.\n",
    "   - Example: `6 * 7 = 42`\n",
    "   \n",
    "4. **Division (/)**: Divides one number by another to get the quotient.\n",
    "   - Example: `20 / 5 = 4`\n",
    "   \n",
    "5. **Exponentiation (^)**: Raises one number to the power of another.\n",
    "   - Example: `2 ^ 3 = 8`\n",
    "   \n",
    "6. **Modulo (%)**: Finds the remainder of the division of one number by another.\n",
    "   - Example: `10 % 3 = 1`\n",
    "\n"
   ]
  },
  {
   "cell_type": "code",
   "execution_count": 13,
   "id": "030807b6-0dc2-4763-b40f-c89a6d85e8a7",
   "metadata": {},
   "outputs": [
    {
     "name": "stdout",
     "output_type": "stream",
     "text": [
      "Multiplication result =  42\n",
      "Addition result =  9\n"
     ]
    }
   ],
   "source": [
    "# Multiplying and Adding Numbers\n",
    "a = 6\n",
    "b = 7\n",
    "c = 3\n",
    "\n",
    "# Multiplication\n",
    "multiplication_result = a * b\n",
    "\n",
    "# Addition\n",
    "addition_result = a + c\n",
    "\n",
    "# Output\n",
    "print ('Multiplication result = ', multiplication_result)\n",
    "print ('Addition result = ', addition_result)\n"
   ]
  },
  {
   "cell_type": "code",
   "execution_count": 15,
   "id": "adb9ac9c-9956-4f91-8d13-59c3c51d48b7",
   "metadata": {},
   "outputs": [
    {
     "name": "stdin",
     "output_type": "stream",
     "text": [
      "Enter the number of minutes:  150\n"
     ]
    },
    {
     "name": "stdout",
     "output_type": "stream",
     "text": [
      "no. of hours =  2.5\n"
     ]
    }
   ],
   "source": [
    "# Taking minutes as input from the user and converting to hours\n",
    "\n",
    "# Input\n",
    "minutes = int(input(\"Enter the number of minutes: \"))\n",
    "\n",
    "# Conversion to hours\n",
    "hours = minutes / 60\n",
    "\n",
    "# Output the result\n",
    "print('no. of hours = ', hours)\n"
   ]
  },
  {
   "cell_type": "markdown",
   "id": "a9b3c696-7908-41e7-ac5b-f83e9e60d91e",
   "metadata": {},
   "source": [
    "# Objectives\n",
    "\n",
    "The main objectives of this document are:\n",
    "\n",
    "1. **Understand the Basics**: Learn fundamental concepts and definitions.\n",
    "2. **Explore Tools and Languages**: Gain knowledge about various data science tools and programming languages.\n",
    "3. **Perform Arithmetic Operations**: Get hands-on experience with basic arithmetic expressions.\n",
    "4. **User Input Handling**: Learn how to take user input and perform conversions.\n",
    "5. **Practical Applications**: Apply the concepts learned through practical coding examples.\n"
   ]
  },
  {
   "cell_type": "markdown",
   "id": "904940bd-4781-4110-8e73-8b303185a52d",
   "metadata": {},
   "source": [
    "## Author\n",
    "\n",
    "**Abhishek**\n",
    "\n",
    "shivhareavi1997@gmail.com\n"
   ]
  },
  {
   "cell_type": "code",
   "execution_count": null,
   "id": "fb75dd40-8d70-445e-b84a-487d4b84da66",
   "metadata": {},
   "outputs": [],
   "source": []
  }
 ],
 "metadata": {
  "kernelspec": {
   "display_name": "Python 3 (ipykernel)",
   "language": "python",
   "name": "python3"
  },
  "language_info": {
   "codemirror_mode": {
    "name": "ipython",
    "version": 3
   },
   "file_extension": ".py",
   "mimetype": "text/x-python",
   "name": "python",
   "nbconvert_exporter": "python",
   "pygments_lexer": "ipython3",
   "version": "3.11.5"
  }
 },
 "nbformat": 4,
 "nbformat_minor": 5
}
